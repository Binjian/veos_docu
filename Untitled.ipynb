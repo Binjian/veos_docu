{
 "cells": [
  {
   "cell_type": "code",
   "execution_count": 2,
   "metadata": {},
   "outputs": [],
   "source": [
    "from xml.dom import minidom"
   ]
  },
  {
   "cell_type": "code",
   "execution_count": 3,
   "metadata": {},
   "outputs": [],
   "source": [
    "doc = minidom.Document()\n",
    "root = doc.createElement(\"Test\")\n",
    "root.setAttribute(\"Name\",\"Soorej\")\n",
    "cdata = doc.createCDATASection(\"Some test value\")\n",
    "cdv = doc.createElement(\"cdatanode\")"
   ]
  },
  {
   "cell_type": "code",
   "execution_count": 5,
   "metadata": {},
   "outputs": [
    {
     "data": {
      "text/plain": [
       "<DOM Element: Test at 0x2c4be136790>"
      ]
     },
     "execution_count": 5,
     "metadata": {},
     "output_type": "execute_result"
    }
   ],
   "source": [
    "cdv.setAttribute(\"Sev\",\"1\")\n",
    "cdv.appendChild(cdata)\n",
    "root.appendChild(cdv)\n",
    "doc.appendChild(root)"
   ]
  },
  {
   "cell_type": "code",
   "execution_count": 7,
   "metadata": {},
   "outputs": [
    {
     "name": "stdout",
     "output_type": "stream",
     "text": [
      "<?xml version=\"1.0\" ?><Test Name=\"Soorej\"><cdatanode Sev=\"1\"><![CDATA[Some test value]]></cdatanode></Test>\n"
     ]
    }
   ],
   "source": [
    "print (doc.toxml())"
   ]
  },
  {
   "cell_type": "code",
   "execution_count": null,
   "metadata": {},
   "outputs": [],
   "source": []
  }
 ],
 "metadata": {
  "kernelspec": {
   "display_name": "Python 3",
   "language": "python",
   "name": "python3"
  },
  "language_info": {
   "codemirror_mode": {
    "name": "ipython",
    "version": 3
   },
   "file_extension": ".py",
   "mimetype": "text/x-python",
   "name": "python",
   "nbconvert_exporter": "python",
   "pygments_lexer": "ipython3",
   "version": "3.8.5"
  }
 },
 "nbformat": 4,
 "nbformat_minor": 4
}
